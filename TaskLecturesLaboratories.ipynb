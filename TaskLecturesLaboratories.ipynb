{
 "cells": [
  {
   "cell_type": "markdown",
   "metadata": {},
   "source": [
    "### Вступ до чисельних методів"
   ]
  },
  {
   "cell_type": "code",
   "execution_count": null,
   "metadata": {},
   "outputs": [],
   "source": [
    "%pip install numpy\n",
    "import numpy as np\n",
    "x = 1\n",
    "y = 2\n",
    "z = x * y\n",
    "z\n",
    "m = list(range(12))\n",
    "print(m)\n",
    "mm = [i+1 for i in m] # для того щоб додати число ми повинні витягнути кожен елмент і виконати операцію\n",
    "print(mm)\n",
    "from random import randint\n",
    "k = [randint(1, 12) * i/12 for i in mm]\n",
    "sum(k)\n",
    "n = np.array(range(12))\n",
    "n += 1\n",
    "n = np.random.randint(1, 13) * n/12\n",
    "n.sum()"
   ]
  },
  {
   "cell_type": "markdown",
   "metadata": {},
   "source": [
    "### Способи створення наборів даних"
   ]
  },
  {
   "cell_type": "code",
   "execution_count": null,
   "metadata": {},
   "outputs": [],
   "source": [
    "x = list(range(12))\n",
    "print(x)\n",
    "y = np.arange(1, 12) # по замовчуванню крок = 1\n",
    "print(y)\n",
    "y = np.arange(1, 12, 2)\n",
    "print(y)\n",
    "x = np.arange(-10, 10, 0.5)\n",
    "y = x**2 * np.cos(x)\n",
    "import matplotlib.pyplot as plt\n",
    "plt.plot(x, y)\n",
    "plt.show()\n",
    "s = np.arange(1, 13)\n",
    "print(\"Одновимірний вектор має вимірів:\", s.ndim, len(s))\n",
    "d = s.reshape(3,4)\n",
    "print(\"Двовимірний масив, це матриця і має вимірів:\", d.ndim)"
   ]
  },
  {
   "cell_type": "markdown",
   "metadata": {},
   "source": [
    "### Вимірність numpy масивів"
   ]
  },
  {
   "cell_type": "code",
   "execution_count": null,
   "metadata": {},
   "outputs": [],
   "source": [
    "sk = np.array([0])\n",
    "print(f\"Вимірність: {sk.ndim}, Форма: {sk.shape}\")\n",
    "vk = np.array([1, 4, 6])\n",
    "print(f\"Вимірність: {vk.ndim}, Форма: {vk.shape}\")\n",
    "mt1 = np.array([[0], [1]])\n",
    "mt2 = np.array([[0, 9], [1, 3]])\n",
    "mt3 = np.array([[0, 1, 2], [1, 0, 1]])\n",
    "print(mt1.ndim, mt2.ndim, mt3.ndim)\n",
    "print(mt1)\n",
    "print(f\"Вимірність: {mt1.ndim}, Форма: {mt1.shape}\")\n",
    "nv = np.array([[[1,2], [3,4], [5,6]], [[7,8], [9,0], [11,12]]])\n",
    "print(nv)\n",
    "print(f\"Вимірність: {nv.ndim}, Форма: {nv.shape}\")"
   ]
  },
  {
   "cell_type": "markdown",
   "metadata": {},
   "source": [
    "### Індексування та зрізи"
   ]
  },
  {
   "cell_type": "code",
   "execution_count": null,
   "metadata": {},
   "outputs": [],
   "source": [
    "test = np.arange(9)\n",
    "reversed_test = test[::-1]\n",
    "nv = reversed_test.reshape(3,3)\n",
    "print(test, reversed_test)\n",
    "print(f\"для доступу по індексах, просто вказуємо індекс: {test[0]}, {reversed_test[0]}\")\n",
    "print(f\"\"\"\n",
    "для доступу по зрізах, вказує звідки і до куди потрібно зрізати: \n",
    "{test[:]}\n",
    "{test[:4]}\n",
    "{test[-1:-4:-1]}\n",
    "{test[2:6]}\n",
    "{nv}\n",
    "Правий верхній кут: {nv[0,2]}\n",
    "Нижній лівий кут: {nv[2, 0]}\n",
    "Зріз стовпця, берем середній: {nv[:, 1]} \n",
    "Зріз рядка, берем останній: {nv[2, :]}\n",
    "Зрізаємо підматрицю, верхня права: {nv[0:2, 1:]}\n",
    "\"\"\")\n",
    "test = np.arange(25).reshape(5,5)\n",
    "print(f\"\"\"\n",
    "{test}\n",
    "Витягуємо внутрішню матрицю 3х3:\n",
    "{test[1:4, 1:4]}\n",
    "{test[::2, ::3]}\n",
    "\"\"\")"
   ]
  },
  {
   "cell_type": "markdown",
   "metadata": {},
   "source": [
    "### Різниця між методами arange та linspace"
   ]
  },
  {
   "cell_type": "code",
   "execution_count": null,
   "metadata": {},
   "outputs": [],
   "source": [
    "a = np.arange(0, 10)\n",
    "l = np.linspace(0, 9, num=9)\n",
    "print(f\"\"\"\n",
    "Метод arange дасть: {a}\n",
    "Метод linspace дасть: {l}\n",
    "      \"\"\")\n",
    "import matplotlib.pyplot as plt\n",
    "fig, (ax1, ax2, ax3) = plt.subplots(1,3)\n",
    "ax1.set_title(\"Досліджуємо arange\")\n",
    "ax1.set_xlabel(\"X\")\n",
    "ax1.set_ylabel(\"Значення функції\")\n",
    "ax2.set_title(\"Досліджуємо linspace\")\n",
    "ax2.set_xlabel(\"X\")\n",
    "ax2.set_ylabel(\"Значення функції\")\n",
    "ax3.set_title(\"Випадкові коливання\")\n",
    "ax3.set_xlabel(\"X\")\n",
    "ax3.set_ylabel(\"Рандом\")\n",
    "xa = np.arange(-10, 10) # тут можна коригувати крок, дефолтний = 1\n",
    "print(f\"Для методу arange згенерували: {xa.size} точок\")\n",
    "ya = xa**2 * np.cos(xa)\n",
    "xl = np.linspace(-10, 10, 100)  # 50 значень, можемо коригувати кількість\n",
    "print(f\"Для методу linspace згенерували: {xl.size} точок\")\n",
    "yl = xl**2 * np.cos(xl)\n",
    "xr = np.linspace(-10,10)\n",
    "yr = np.random.normal(0, 0.5, 50).round(4)\n",
    "print(f\"Згенеровані випадкові значення, max: {yr.max()}, min: {yr.min()}\")\n",
    "ax1.plot(xa, ya, color=\"red\")\n",
    "ax1.scatter(xa, ya, color='blue', marker='x') \n",
    "ax2.plot(xl, yl, color=\"black\")\n",
    "ax2.scatter(xl, yl, color='green', marker='v') \n",
    "ax3.plot(xr, yr, color=\"black\")\n",
    "ax3.scatter(xr, yr, color='green', marker='v') \n",
    "plt.tight_layout()\n",
    "plt.show()"
   ]
  },
  {
   "cell_type": "markdown",
   "metadata": {},
   "source": [
    "### Приклад продажу товарів за місяць"
   ]
  },
  {
   "cell_type": "code",
   "execution_count": null,
   "metadata": {},
   "outputs": [],
   "source": [
    "d = np.arange(1, 32)\n",
    "base_sales = np.random.normal(10, 2, size=d.size).round(0)\n",
    "base_sales\n",
    "plt.plot(d, base_sales, color=\"green\")\n",
    "plt.scatter(d, base_sales, marker=\"o\")\n",
    "plt.fill_between(d, base_sales, 10, where=(base_sales > 10), color='orange', label=\"Продажі успішні\")\n",
    "plt.fill_between(d, base_sales, 10, where=(base_sales < 10), color='red', label=\"Продажі впали\")\n",
    "plt.title(\"Кількість продажів за Жовтень\")\n",
    "plt.xlabel(\"День місяця\")\n",
    "plt.ylabel(\"Кількість проданих товарів\")\n",
    "plt.legend()\n",
    "plt.grid()\n",
    "plt.show()"
   ]
  },
  {
   "cell_type": "markdown",
   "metadata": {},
   "source": [
    "### Створення наперд загальновідомих матриць"
   ]
  },
  {
   "cell_type": "code",
   "execution_count": null,
   "metadata": {},
   "outputs": [],
   "source": [
    "for i in range(4):\n",
    "    print(np.ones(i))\n",
    "    print(np.zeros(i))\n",
    "\n",
    "print(np.ones((4,4), dtype=bool), \"\\n\", np.zeros((4,4), dtype=bool))"
   ]
  },
  {
   "cell_type": "markdown",
   "metadata": {},
   "source": [
    "### Приклад від GPT"
   ]
  },
  {
   "cell_type": "code",
   "execution_count": null,
   "metadata": {},
   "outputs": [],
   "source": [
    "import numpy as np\n",
    "from PIL import Image\n",
    "import matplotlib.pyplot as plt\n",
    "# Блок 1: Робота з матрицями\n",
    "# Створюємо початкову матрицю 3x3, заповнену нулями\n",
    "initial_matrix = np.zeros((3, 3))\n",
    "print(\"Initial Matrix:\\n\", initial_matrix)\n",
    "# Ініціалізуємо ваги 3x3: початково всі 0.5\n",
    "weights = np.ones((3, 3)) * 0.5\n",
    "weights[1, 1] = 2  # Встановлюємо вагу у центрі матриці\n",
    "weights[0, :] = 1.2  # Верхній рядок — рівний 1.2\n",
    "print(\"Weights:\\n\", weights)\n",
    "# Додаємо ваги до початкової матриці\n",
    "result = initial_matrix + weights\n",
    "print(\"Result:\\n\", result)\n",
    "# Блок 2: Робота із зображенням\n",
    "# Завантажуємо зображення у формат NumPy\n",
    "image = Image.open(\"../init/chat_icon.jpg\")  # Заміни шлях до свого файлу\n",
    "image_array = np.array(image)\n",
    "print(\"Shape of image array:\", image_array.shape)\n",
    "# Інвертуємо кольори\n",
    "inverted_image_array = 255 - image_array\n",
    "# Відображаємо інвертоване зображення\n",
    "plt.figure(figsize=(8, 8))\n",
    "plt.imshow(inverted_image_array)\n",
    "plt.axis(\"off\")  # Прибираємо осі\n",
    "plt.show()\n",
    "# Застосування фільтру яскравості\n",
    "brightness_factor = 0.1  # Зменшення яскравості\n",
    "filter_matrix = np.ones(image_array.shape) * brightness_factor\n",
    "darker_image_array = (image_array * filter_matrix).astype(np.uint8)\n",
    "# Відображаємо затемнене зображення\n",
    "plt.figure(figsize=(8, 8))\n",
    "plt.imshow(darker_image_array)\n",
    "plt.axis(\"off\")\n",
    "plt.show()\n",
    "# Блок 3: Таблиця маршрутів\n",
    "# Матриця маршрутів між містами (приклад Київ-Львів)\n",
    "routes = np.identity(5)  # Створюємо діагональну матрицю 5x5\n",
    "routes[0, 1] = 600  # Відстань Київ -> Львів\n",
    "routes[1, 0] = 600  # Відстань Львів -> Київ\n",
    "print(\"Routes matrix:\\n\", routes)\n",
    "# Додатково: матриця eye\n",
    "print(\"Matrix eye(5, 3):\\n\", np.eye(5, 3))"
   ]
  },
  {
   "cell_type": "markdown",
   "metadata": {},
   "source": [
    "### Приклад від GPT"
   ]
  },
  {
   "cell_type": "code",
   "execution_count": null,
   "metadata": {},
   "outputs": [],
   "source": [
    "import numpy as np\n",
    "X = np.array([[1, 2], [3, 4]])  # Приклад матриці ознак\n",
    "lambda_reg = 0.1  # Коефіцієнт регуляризації\n",
    "# Додаємо регуляризаційний терм (λ * одинична матриця)\n",
    "X_regularized = X + lambda_reg * np.eye(X.shape[0])\n",
    "print(\"Регуляризована матриця:\\n\", X_regularized)"
   ]
  },
  {
   "cell_type": "markdown",
   "metadata": {},
   "source": [
    "### Представимо що ми маємо записи температури у кожному місті"
   ]
  },
  {
   "cell_type": "code",
   "execution_count": null,
   "metadata": {},
   "outputs": [],
   "source": [
    "dt = np.dtype([('city',np.str_, 20), ('temperature', np.int8)])\n",
    "t = np.genfromtxt(\"1.csv\", dtype=dt, delimiter=\",\", skip_header=1)\n",
    "print(t)\n",
    "for d in t:\n",
    "    print(f\"У місті {d['city']} маємо температуру {d['temperature']} градусів\")"
   ]
  }
 ],
 "metadata": {
  "kernelspec": {
   "display_name": "Python 3",
   "language": "python",
   "name": "python3"
  },
  "language_info": {
   "codemirror_mode": {
    "name": "ipython",
    "version": 3
   },
   "file_extension": ".py",
   "mimetype": "text/x-python",
   "name": "python",
   "nbconvert_exporter": "python",
   "pygments_lexer": "ipython3",
   "version": "3.12.3"
  }
 },
 "nbformat": 4,
 "nbformat_minor": 2
}
